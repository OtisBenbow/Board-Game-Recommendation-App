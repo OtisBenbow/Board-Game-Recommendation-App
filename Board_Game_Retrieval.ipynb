{
 "cells": [
  {
   "cell_type": "markdown",
   "metadata": {
    "id": "tAAL-g1-oN3U"
   },
   "source": [
    "# Importing the Libraries"
   ]
  },
  {
   "cell_type": "code",
   "execution_count": 3,
   "metadata": {
    "id": "VO0wNLrS2clZ"
   },
   "outputs": [],
   "source": [
    "# !pip install selenium\n",
    "# !apt-get install chromium-driver"
   ]
  },
  {
   "cell_type": "code",
   "execution_count": 2,
   "metadata": {
    "id": "VmGdPhhFbvYL"
   },
   "outputs": [],
   "source": [
    "from bs4 import BeautifulSoup                # the BeautifulSoup library for scraping\n",
    "#from selenium import webdriver               # The Selenium library for scraping\n",
    "#from selenium.webdriver.common.by import By  # For finding elements using the By method (didn't end up using)\n",
    "\n",
    "import requests                              # Establish website connection using the requests library\n",
    "import pandas as pd                          # For getting the data into a dataframe\n",
    "import numpy as np                           # Standard maths\n",
    "import re                                    # RegEx for pattern matching"
   ]
  },
  {
   "cell_type": "markdown",
   "metadata": {
    "id": "Jjc3ZlQo-BGo"
   },
   "source": [
    "# Retrieving the URL of each board game page"
   ]
  },
  {
   "cell_type": "code",
   "execution_count": 10,
   "metadata": {
    "id": "5E2POrZLjv-P"
   },
   "outputs": [],
   "source": [
    "site = 'https://boardgamegeek.com' # The base url for BoardGameGeek\n",
    "browse = 'https://boardgamegeek.com/browse/boardgame/page/{}' # The url for the browsing section of BoardGameGeek - {} for page number\n",
    "\n",
    "game_links = []\n",
    "\n",
    "# Extract the url of each specific board game from the first 10 browse pages\n",
    "for page_no in range(1, 11):\n",
    "    browse_page = browse.format(page_no)\n",
    "    response = requests.get(browse_page).text\n",
    "    soup = BeautifulSoup(response, 'html.parser')\n",
    "\n",
    "# Modify the url so that it instead directs to the credits section that includes more information\n",
    "    for link in soup.select('.collection_objectname a'):\n",
    "      game_links.append(site + link['href'])"
   ]
  },
  {
   "cell_type": "code",
   "execution_count": 27,
   "metadata": {
    "colab": {
     "base_uri": "https://localhost:8080/"
    },
    "id": "puh_WKzqjrcM",
    "outputId": "b8188d1c-f4de-4236-bd9c-ff1ca5d23a88"
   },
   "outputs": [
    {
     "name": "stdout",
     "output_type": "stream",
     "text": [
      "1000\n"
     ]
    }
   ],
   "source": [
    "print(len(game_links)) # Check to see if there are the correct amount of board games\n",
    "# print(game_links)"
   ]
  },
  {
   "cell_type": "markdown",
   "metadata": {
    "id": "rLla-Afp-N8k"
   },
   "source": [
    "\n",
    "# Retrieving the data from a single page using beautiful soup"
   ]
  },
  {
   "cell_type": "code",
   "execution_count": 20,
   "metadata": {
    "colab": {
     "base_uri": "https://localhost:8080/"
    },
    "id": "CMEs_6TbBzd1",
    "outputId": "4f7d81a2-5f3b-452d-bb30-b119d3a12ecd"
   },
   "outputs": [
    {
     "data": {
      "text/plain": [
       "<Response [200]>"
      ]
     },
     "execution_count": 20,
     "metadata": {},
     "output_type": "execute_result"
    }
   ],
   "source": [
    "# Connect to the board game \"Dune: Imperium\" from the BoardGameGeek website\n",
    "site = 'https://boardgamegeek.com/boardgame/316554/dune-imperium/credits#boardgamemechanic'\n",
    "response = requests.get(site)\n",
    "soup = BeautifulSoup(response.text, 'html.parser')\n",
    "response"
   ]
  },
  {
   "cell_type": "code",
   "execution_count": 20,
   "metadata": {
    "colab": {
     "base_uri": "https://localhost:8080/"
    },
    "id": "rjvxkhu-GAcx",
    "outputId": "38f67ab7-1485-4665-fb09-bc72e13a12ef"
   },
   "outputs": [
    {
     "name": "stdout",
     "output_type": "stream",
     "text": [
      "\n"
     ]
    }
   ],
   "source": [
    "# Locate the area that contains the important information\n",
    "info = soup.select('script')[2].text\n",
    "# print(info)"
   ]
  },
  {
   "cell_type": "code",
   "execution_count": 11,
   "metadata": {
    "colab": {
     "base_uri": "https://localhost:8080/"
    },
    "id": "7pma1cDasDM1",
    "outputId": "aad0317c-91fe-483d-c87a-1afe31edfdbe"
   },
   "outputs": [
    {
     "name": "stdout",
     "output_type": "stream",
     "text": [
      "Name: Dune: Imperium\n",
      "Year: 2020\n",
      "MinPlayers: 1\n",
      "MaxPlayers: 4\n",
      "MinPlayTime: 60\n",
      "MaxPlayTime: 120\n",
      "MinAge: 14\n",
      "Complexity: 3.059255079006772\n",
      "BGGRating: 8.42716\n",
      "Description: Influence, intrigue, and combat in the universe of Dune.\n",
      "[('1064', 'movies-tv-radio-theme'), ('1093', 'novel-based'), ('1001', 'political'), ('1016', 'science-fiction')]\n",
      "[('2857', 'card-play-conflict-resolution'), ('2664', 'deck-bag-and-pool-building'), ('2901', 'delayed-purchase'), ('2864', 'force-commitment'), ('2914', 'increase-value-of-unchosen-resources'), ('3099', 'multi-use-cards')]\n"
     ]
    }
   ],
   "source": [
    "# Using Regex to extract the important information on each board game\n",
    "Name = re.search(r'},\"name\":\"(.*?)\"', info).group(1)\n",
    "Year = re.search(r'\"yearpublished\":\"(.*?)\"', info).group(1)\n",
    "MinPlayers = re.search(r'\"minplayers\":\"(.*?)\"', info).group(1)\n",
    "MaxPlayers = re.search(r'\"maxplayers\":\"(.*?)\"', info).group(1)\n",
    "MinPlayTime = re.search(r'\"minplaytime\":\"(.*?)\"', info).group(1)\n",
    "MaxPlayTime = re.search(r'\"maxplaytime\":\"(.*?)\"', info).group(1)\n",
    "MinAge = re.search(r'\"minage\":\"(.*?)\"', info).group(1)\n",
    "Complexity = re.search(r'\"averageweight\":(.*?),', info).group(1)\n",
    "BGGRating = re.search(r'\"average\":\"(.*?)\",', info).group(1)\n",
    "Description = re.search(r'\"short_description\":\"(.*?)\"', info).group(1)\n",
    "Category = re.findall(r'\"href\":\"\\\\/boardgamecategory\\\\/(.*?)\\\\/(.*?)\"', info)\n",
    "Mechanic = re.findall(r'\"href\":\"\\\\/boardgamemechanic\\\\/(.*?)\\\\/(.*?)\"', info)\n",
    "print(\"Name: \" + Name)\n",
    "print(\"Year: \" + Year)\n",
    "print(\"MinPlayers: \" + MinPlayers)\n",
    "print(\"MaxPlayers: \" + MaxPlayers)\n",
    "print(\"MinPlayTime: \" + MinPlayTime)\n",
    "print(\"MaxPlayTime: \" + MaxPlayTime)\n",
    "print(\"MinAge: \" + MinAge)\n",
    "print(\"Complexity: \" + Complexity)\n",
    "print(\"BGGRating: \" + BGGRating)\n",
    "print(\"Description: \" + Description)\n",
    "print(Category)\n",
    "print(Mechanic)"
   ]
  },
  {
   "cell_type": "markdown",
   "metadata": {
    "id": "IA0PYpIguaN8"
   },
   "source": [
    "---\n",
    "### Why I couldn't use BeautifulSoup:\n",
    "Unfortunately, BGG has a very large HTML, so the information that I required was not shown when put into python. This led to a workaround by using Regex on a specific set of information in a portion of the HTML called \"GEEK.geekitemPreload\"\n",
    "\n",
    "This approach worked for most of it since this portion contained all the information I needed, however, when extracting the genre list I noticed it to be smaller than expected. That's when I realised that GEEK.geekitemPreload only contained the first 6 genres from BGG alphabetically. So for example, a genre like \"worker placement\" would never be shown in my genre list which would be a big limitation.\n",
    "\n",
    "This resulted in attempting to explore the HTML using Selenium instead\n",
    "\n",
    "---"
   ]
  },
  {
   "cell_type": "markdown",
   "metadata": {
    "id": "M3c_Mylc5AAf"
   },
   "source": [
    "# Retrieving the data from a single page using Selenium"
   ]
  },
  {
   "cell_type": "code",
   "execution_count": 5,
   "metadata": {
    "id": "5NUdPbfb5EgW"
   },
   "outputs": [],
   "source": [
    "# Retrieving the web driver into google colab\n",
    "def web_driver():\n",
    "  options = webdriver.ChromeOptions()\n",
    "  options.add_argument(\"--verbose\")\n",
    "  options.add_argument('--no-sandbox')\n",
    "  options.add_argument('--headless')\n",
    "  options.add_argument('--disable-gpu')\n",
    "  options.add_argument(\"--window-size=1920, 1200\")\n",
    "  options.add_argument('--disable-dev-shm-usage')\n",
    "  driver = webdriver.Chrome(options=options)\n",
    "  return driver\n",
    "\n",
    "driver = web_driver()"
   ]
  },
  {
   "cell_type": "code",
   "execution_count": 17,
   "metadata": {
    "id": "c76gVDVB6Auu"
   },
   "outputs": [],
   "source": [
    "# Connect to the board game \"Dune: Imperium\" from the BoardGameGeek website\n",
    "driver.get('https://boardgamegeek.com/boardgame/316554/dune-imperium/credits#boardgamemechanic')\n",
    "source = driver.page_source\n",
    "#source"
   ]
  },
  {
   "cell_type": "code",
   "execution_count": 16,
   "metadata": {
    "colab": {
     "base_uri": "https://localhost:8080/"
    },
    "id": "6DFGXaD_Hy72",
    "outputId": "8f827eef-e180-4621-decf-a758c30541ad"
   },
   "outputs": [
    {
     "name": "stdout",
     "output_type": "stream",
     "text": [
      "Name: Dune: Imperium\n",
      "Year: 2020\n",
      "MinPlayers: 1\n",
      "MaxPlayers: 4\n",
      "MinPlayTime: 60\n",
      "MaxPlayTime: 120\n",
      "MinAge: 14\n",
      "Complexity: 3.059255079006772\n",
      "BGGRating: 8.42716\n",
      "Description: Influence, intrigue, and combat in the universe of Dune.\n",
      "[('1064', 'movies-tv-radio-theme'), ('1093', 'novel-based'), ('1001', 'political'), ('1016', 'science-fiction')]\n",
      "[('2857', 'card-play-conflict-resolution'), ('2664', 'deck-bag-and-pool-building'), ('2901', 'delayed-purchase'), ('2864', 'force-commitment'), ('2914', 'increase-value-of-unchosen-resources'), ('3099', 'multi-use-cards'), ('2041', 'open-drafting'), ('2876', 'race'), ('2819', 'solo-solitaire-game'), ('3100', 'tags'), ('2686', 'take-that'), ('2828', 'turn-order-progressive'), ('2015', 'variable-player-powers'), ('2082', 'worker-placement')]\n"
     ]
    }
   ],
   "source": [
    "# Using Regex to extract the important information on each board game\n",
    "Name = re.search(r'},\"name\":\"(.*?)\"', source).group(1)\n",
    "Year = re.search(r'\"yearpublished\":\"(.*?)\"', source).group(1)\n",
    "MinPlayers = re.search(r'\"minplayers\":\"(.*?)\"', source).group(1)\n",
    "MaxPlayers = re.search(r'\"maxplayers\":\"(.*?)\"', source).group(1)\n",
    "MinPlayTime = re.search(r'\"minplaytime\":\"(.*?)\"', source).group(1)\n",
    "MaxPlayTime = re.search(r'\"maxplaytime\":\"(.*?)\"', source).group(1)\n",
    "MinAge = re.search(r'\"minage\":\"(.*?)\"', source).group(1)\n",
    "Complexity = re.search(r'\"averageweight\":(.*?),', source).group(1)\n",
    "BGGRating = re.search(r'\"average\":\"(.*?)\",', source).group(1)\n",
    "Description = re.search(r'\"short_description\":\"(.*?)\"', source).group(1)\n",
    "Category = re.findall(r'<a ng-href=\"/boardgamecategory/(.*?)/(.*?)\"', source)\n",
    "Mechanic = re.findall(r'<a ng-href=\"/boardgamemechanic/(.*?)/(.*?)\"', source)\n",
    "print(\"Name: \" + Name)\n",
    "print(\"Year: \" + Year)\n",
    "print(\"MinPlayers: \" + MinPlayers)\n",
    "print(\"MaxPlayers: \" + MaxPlayers)\n",
    "print(\"MinPlayTime: \" + MinPlayTime)\n",
    "print(\"MaxPlayTime: \" + MaxPlayTime)\n",
    "print(\"MinAge: \" + MinAge)\n",
    "print(\"Complexity: \" + Complexity)\n",
    "print(\"BGGRating: \" + BGGRating)\n",
    "print(\"Description: \" + Description)\n",
    "print(Category)\n",
    "print(Mechanic)"
   ]
  },
  {
   "cell_type": "markdown",
   "metadata": {
    "id": "uZsU4_RosjHr"
   },
   "source": [
    "# Retrieving the data from each game into one dataframe"
   ]
  },
  {
   "cell_type": "code",
   "execution_count": 7,
   "metadata": {
    "id": "0IWS7rUbLGWZ"
   },
   "outputs": [],
   "source": [
    "# Retrieving the web driver into google colab.\n",
    "def web_driver():\n",
    "  options = webdriver.ChromeOptions()\n",
    "  options.add_argument(\"--verbose\")\n",
    "  options.add_argument('--no-sandbox')\n",
    "  options.add_argument('--headless')\n",
    "  options.add_argument('--disable-gpu')\n",
    "  options.add_argument(\"--window-size=1920, 1200\")\n",
    "  options.add_argument('--disable-dev-shm-usage')\n",
    "  driver = webdriver.Chrome(options=options)\n",
    "  return driver\n",
    "driver = web_driver()"
   ]
  },
  {
   "cell_type": "code",
   "execution_count": 10,
   "metadata": {
    "id": "FFIqp257rEw3"
   },
   "outputs": [],
   "source": [
    "# Defining some empty lists of each element I want in my dataset\n",
    "Name = []\n",
    "Release_Year = []\n",
    "Description = []\n",
    "Minimum_Players = []\n",
    "Maximum_Players = []\n",
    "Minimum_Time = []\n",
    "Maximum_Time = []\n",
    "Age_Rating = []\n",
    "Complexity_Score = []\n",
    "BBG_Rating = []\n",
    "Game_Categories = []\n",
    "Game_Mechanics = []\n",
    "\n",
    "# Using Selenium to connect to the URL of each game made in game_links\n",
    "for game in game_links:\n",
    "  driver.get(game)\n",
    "  source = driver.page_source\n",
    "\n",
    "# Using Regex to extract the important information on each board game\n",
    "# Under a try/except statement so that any missing information is found as unknown instead of stopping the collection\n",
    "\n",
    "  try:\n",
    "    Title = re.search(r'},\"name\":\"(.*?)\"', source).group(1)\n",
    "  except AttributeError:\n",
    "    Title = \"Unknown\"\n",
    "\n",
    "  try:\n",
    "    Year = re.search(r'\"yearpublished\":\"(.*?)\"', source).group(1)\n",
    "  except AttributeError:\n",
    "    Year = \"Unknown\"\n",
    "\n",
    "  try:\n",
    "    Desc = re.search(r'\"short_description\":\"(.*?)\"', source).group(1)\n",
    "  except AttributeError:\n",
    "    Desc = \"Unknown\"\n",
    "\n",
    "  try:\n",
    "    MinPlayers = re.search(r'\"minplayers\":\"(.*?)\"', source).group(1)\n",
    "  except AttributeError:\n",
    "    MinPlayers = \"Unknown\"\n",
    "\n",
    "  try:\n",
    "    MaxPlayers = re.search(r'\"maxplayers\":\"(.*?)\"', source).group(1)\n",
    "  except AttributeError:\n",
    "    MaxPlayers = \"Unknown\"\n",
    "\n",
    "  try:\n",
    "    MinPlayTime = re.search(r'\"minplaytime\":\"(.*?)\"', source).group(1)\n",
    "  except AttributeError:\n",
    "    MinPlayTime = \"Unknown\"\n",
    "\n",
    "  try:\n",
    "    MaxPlayTime = re.search(r'\"maxplaytime\":\"(.*?)\"', source).group(1)\n",
    "  except AttributeError:\n",
    "    MaxPlayTime = \"Unknown\"\n",
    "\n",
    "  try:\n",
    "    MinAge = re.search(r'\"minage\":\"(.*?)\"', source).group(1)\n",
    "  except AttributeError:\n",
    "    MinAge = \"Unknown\"\n",
    "\n",
    "  try:\n",
    "    Complexity = re.search(r'\"averageweight\":(.*?),', source).group(1)\n",
    "  except AttributeError:\n",
    "    Complexity = \"Unknown\"\n",
    "\n",
    "  try:\n",
    "    BGGRating = re.search(r'\"average\":\"(.*?)\",', source).group(1)\n",
    "  except AttributeError:\n",
    "    BGGRating = \"Unknown\"\n",
    "\n",
    "  try:\n",
    "    Category = re.findall(r'<a ng-href=\"/boardgamecategory/(.*?)/(.*?)\"', source)\n",
    "    Category = Category[0][0] if Category else \"Unknown\" # Extract the first category ID\n",
    "  except (AttributeError, IndexError):\n",
    "    Category = \"Unknown\"\n",
    "\n",
    "  try:\n",
    "    Mechanic = re.findall(r'<a ng-href=\"/boardgamemechanic/(.*?)/(.*?)\"', source)\n",
    "    Mechanic = Mechanic[0][0] if Mechanic else \"Unknown\" # Extract the first mechanic ID\n",
    "  except (AttributeError, IndexError):\n",
    "    Mechanic = \"Unknown\"\n",
    "\n",
    "\n",
    "  Name.append(Title)\n",
    "  Release_Year.append(Year)\n",
    "  Description.append(Desc)\n",
    "  Minimum_Players.append(MinPlayers)\n",
    "  Maximum_Players.append(MaxPlayers)\n",
    "  Minimum_Time.append(MinPlayTime)\n",
    "  Maximum_Time.append(MaxPlayTime)\n",
    "  Age_Rating.append(MinAge)\n",
    "  Complexity_Score.append(Complexity)\n",
    "  BBG_Rating.append(BGGRating)\n",
    "  Game_Categories.append(Category)\n",
    "  Game_Mechanics.append(Mechanic)"
   ]
  },
  {
   "cell_type": "markdown",
   "metadata": {
    "id": "L3OS9ZymxDL8"
   },
   "source": [
    "# Creating a dataframe and converting it to a .csv"
   ]
  },
  {
   "cell_type": "code",
   "execution_count": 14,
   "metadata": {
    "id": "seaii-4yCWVh"
   },
   "outputs": [],
   "source": [
    "# Collecting my data into a pandas dataframe\n",
    "df = pd.DataFrame({\"Name\":Name, \"Release_Year\":Release_Year, \"Description\":Description,\n",
    "                   \"Minimum_Players\":Minimum_Players, \"Maximum_Players\":Maximum_Players,\n",
    "                   \"Minimum_Time\":Minimum_Time, \"Maximum_Time\":Maximum_Time, \"Age_Rating\":Age_Rating,\n",
    "                   \"Complexity_Score\":Complexity_Score, \"BBG_Rating\":BBG_Rating,\n",
    "                   \"Game_Categories\":Game_Categories, \"Game_Mechanics\":Game_Mechanics})"
   ]
  },
  {
   "cell_type": "code",
   "execution_count": 15,
   "metadata": {
    "colab": {
     "base_uri": "https://localhost:8080/",
     "height": 206
    },
    "id": "tgeTRKoKByzF",
    "outputId": "58aa2ab2-c464-4541-fa9e-f2ddd46092b7"
   },
   "outputs": [
    {
     "data": {
      "application/vnd.google.colaboratory.intrinsic+json": {
       "repr_error": "0",
       "type": "dataframe"
      },
      "text/html": [
       "\n",
       "  <div id=\"df-bfecf530-7f22-404a-9a7f-6508d5d4da37\" class=\"colab-df-container\">\n",
       "    <div>\n",
       "<style scoped>\n",
       "    .dataframe tbody tr th:only-of-type {\n",
       "        vertical-align: middle;\n",
       "    }\n",
       "\n",
       "    .dataframe tbody tr th {\n",
       "        vertical-align: top;\n",
       "    }\n",
       "\n",
       "    .dataframe thead th {\n",
       "        text-align: right;\n",
       "    }\n",
       "</style>\n",
       "<table border=\"1\" class=\"dataframe\">\n",
       "  <thead>\n",
       "    <tr style=\"text-align: right;\">\n",
       "      <th></th>\n",
       "      <th>Name</th>\n",
       "      <th>Release_Year</th>\n",
       "      <th>Description</th>\n",
       "      <th>Minimum_Players</th>\n",
       "      <th>Maximum_Players</th>\n",
       "      <th>Minimum_Time</th>\n",
       "      <th>Maximum_Time</th>\n",
       "      <th>Age_Rating</th>\n",
       "      <th>Complexity_Score</th>\n",
       "      <th>BBG_Rating</th>\n",
       "      <th>Game_Categories</th>\n",
       "      <th>Game_Mechanics</th>\n",
       "    </tr>\n",
       "  </thead>\n",
       "  <tbody>\n",
       "    <tr>\n",
       "      <th>995</th>\n",
       "      <td>Union Pacific</td>\n",
       "      <td>1999</td>\n",
       "      <td>Will you increase the value of railways you ha...</td>\n",
       "      <td>2</td>\n",
       "      <td>6</td>\n",
       "      <td>90</td>\n",
       "      <td>90</td>\n",
       "      <td>12</td>\n",
       "      <td>2.5458422174840085</td>\n",
       "      <td>7.19338</td>\n",
       "      <td>1021</td>\n",
       "      <td>2081</td>\n",
       "    </tr>\n",
       "    <tr>\n",
       "      <th>996</th>\n",
       "      <td>Istanbul: The Dice Game</td>\n",
       "      <td>2017</td>\n",
       "      <td>Roll worker dice to collect and trade resource...</td>\n",
       "      <td>2</td>\n",
       "      <td>4</td>\n",
       "      <td>20</td>\n",
       "      <td>40</td>\n",
       "      <td>8</td>\n",
       "      <td>1.790909090909091</td>\n",
       "      <td>7.14751</td>\n",
       "      <td>1017</td>\n",
       "      <td>2001</td>\n",
       "    </tr>\n",
       "    <tr>\n",
       "      <th>997</th>\n",
       "      <td>Pictomania</td>\n",
       "      <td>2011</td>\n",
       "      <td>Pictionary chaos.  Everyone draws and guesses ...</td>\n",
       "      <td>3</td>\n",
       "      <td>6</td>\n",
       "      <td>25</td>\n",
       "      <td>25</td>\n",
       "      <td>9</td>\n",
       "      <td>1.5254237288135593</td>\n",
       "      <td>7.26297</td>\n",
       "      <td>1030</td>\n",
       "      <td>3096</td>\n",
       "    </tr>\n",
       "    <tr>\n",
       "      <th>998</th>\n",
       "      <td>Palm Island</td>\n",
       "      <td>2018</td>\n",
       "      <td>Develop and gather resources to grow an island...</td>\n",
       "      <td>1</td>\n",
       "      <td>2</td>\n",
       "      <td>15</td>\n",
       "      <td>15</td>\n",
       "      <td>10</td>\n",
       "      <td>1.7452229299363058</td>\n",
       "      <td>7.06717</td>\n",
       "      <td>1002</td>\n",
       "      <td>2023</td>\n",
       "    </tr>\n",
       "    <tr>\n",
       "      <th>999</th>\n",
       "      <td>Spyfall</td>\n",
       "      <td>2014</td>\n",
       "      <td>Players ask each other probing questions to de...</td>\n",
       "      <td>3</td>\n",
       "      <td>8</td>\n",
       "      <td>15</td>\n",
       "      <td>15</td>\n",
       "      <td>13</td>\n",
       "      <td>1.2355212355212355</td>\n",
       "      <td>6.75935</td>\n",
       "      <td>1023</td>\n",
       "      <td>2073</td>\n",
       "    </tr>\n",
       "  </tbody>\n",
       "</table>\n",
       "</div>\n",
       "    <div class=\"colab-df-buttons\">\n",
       "\n",
       "  <div class=\"colab-df-container\">\n",
       "    <button class=\"colab-df-convert\" onclick=\"convertToInteractive('df-bfecf530-7f22-404a-9a7f-6508d5d4da37')\"\n",
       "            title=\"Convert this dataframe to an interactive table.\"\n",
       "            style=\"display:none;\">\n",
       "\n",
       "  <svg xmlns=\"http://www.w3.org/2000/svg\" height=\"24px\" viewBox=\"0 -960 960 960\">\n",
       "    <path d=\"M120-120v-720h720v720H120Zm60-500h600v-160H180v160Zm220 220h160v-160H400v160Zm0 220h160v-160H400v160ZM180-400h160v-160H180v160Zm440 0h160v-160H620v160ZM180-180h160v-160H180v160Zm440 0h160v-160H620v160Z\"/>\n",
       "  </svg>\n",
       "    </button>\n",
       "\n",
       "  <style>\n",
       "    .colab-df-container {\n",
       "      display:flex;\n",
       "      gap: 12px;\n",
       "    }\n",
       "\n",
       "    .colab-df-convert {\n",
       "      background-color: #E8F0FE;\n",
       "      border: none;\n",
       "      border-radius: 50%;\n",
       "      cursor: pointer;\n",
       "      display: none;\n",
       "      fill: #1967D2;\n",
       "      height: 32px;\n",
       "      padding: 0 0 0 0;\n",
       "      width: 32px;\n",
       "    }\n",
       "\n",
       "    .colab-df-convert:hover {\n",
       "      background-color: #E2EBFA;\n",
       "      box-shadow: 0px 1px 2px rgba(60, 64, 67, 0.3), 0px 1px 3px 1px rgba(60, 64, 67, 0.15);\n",
       "      fill: #174EA6;\n",
       "    }\n",
       "\n",
       "    .colab-df-buttons div {\n",
       "      margin-bottom: 4px;\n",
       "    }\n",
       "\n",
       "    [theme=dark] .colab-df-convert {\n",
       "      background-color: #3B4455;\n",
       "      fill: #D2E3FC;\n",
       "    }\n",
       "\n",
       "    [theme=dark] .colab-df-convert:hover {\n",
       "      background-color: #434B5C;\n",
       "      box-shadow: 0px 1px 3px 1px rgba(0, 0, 0, 0.15);\n",
       "      filter: drop-shadow(0px 1px 2px rgba(0, 0, 0, 0.3));\n",
       "      fill: #FFFFFF;\n",
       "    }\n",
       "  </style>\n",
       "\n",
       "    <script>\n",
       "      const buttonEl =\n",
       "        document.querySelector('#df-bfecf530-7f22-404a-9a7f-6508d5d4da37 button.colab-df-convert');\n",
       "      buttonEl.style.display =\n",
       "        google.colab.kernel.accessAllowed ? 'block' : 'none';\n",
       "\n",
       "      async function convertToInteractive(key) {\n",
       "        const element = document.querySelector('#df-bfecf530-7f22-404a-9a7f-6508d5d4da37');\n",
       "        const dataTable =\n",
       "          await google.colab.kernel.invokeFunction('convertToInteractive',\n",
       "                                                    [key], {});\n",
       "        if (!dataTable) return;\n",
       "\n",
       "        const docLinkHtml = 'Like what you see? Visit the ' +\n",
       "          '<a target=\"_blank\" href=https://colab.research.google.com/notebooks/data_table.ipynb>data table notebook</a>'\n",
       "          + ' to learn more about interactive tables.';\n",
       "        element.innerHTML = '';\n",
       "        dataTable['output_type'] = 'display_data';\n",
       "        await google.colab.output.renderOutput(dataTable, element);\n",
       "        const docLink = document.createElement('div');\n",
       "        docLink.innerHTML = docLinkHtml;\n",
       "        element.appendChild(docLink);\n",
       "      }\n",
       "    </script>\n",
       "  </div>\n",
       "\n",
       "\n",
       "<div id=\"df-66c679e6-12df-48b6-b3ac-7b6a207903ac\">\n",
       "  <button class=\"colab-df-quickchart\" onclick=\"quickchart('df-66c679e6-12df-48b6-b3ac-7b6a207903ac')\"\n",
       "            title=\"Suggest charts\"\n",
       "            style=\"display:none;\">\n",
       "\n",
       "<svg xmlns=\"http://www.w3.org/2000/svg\" height=\"24px\"viewBox=\"0 0 24 24\"\n",
       "     width=\"24px\">\n",
       "    <g>\n",
       "        <path d=\"M19 3H5c-1.1 0-2 .9-2 2v14c0 1.1.9 2 2 2h14c1.1 0 2-.9 2-2V5c0-1.1-.9-2-2-2zM9 17H7v-7h2v7zm4 0h-2V7h2v10zm4 0h-2v-4h2v4z\"/>\n",
       "    </g>\n",
       "</svg>\n",
       "  </button>\n",
       "\n",
       "<style>\n",
       "  .colab-df-quickchart {\n",
       "      --bg-color: #E8F0FE;\n",
       "      --fill-color: #1967D2;\n",
       "      --hover-bg-color: #E2EBFA;\n",
       "      --hover-fill-color: #174EA6;\n",
       "      --disabled-fill-color: #AAA;\n",
       "      --disabled-bg-color: #DDD;\n",
       "  }\n",
       "\n",
       "  [theme=dark] .colab-df-quickchart {\n",
       "      --bg-color: #3B4455;\n",
       "      --fill-color: #D2E3FC;\n",
       "      --hover-bg-color: #434B5C;\n",
       "      --hover-fill-color: #FFFFFF;\n",
       "      --disabled-bg-color: #3B4455;\n",
       "      --disabled-fill-color: #666;\n",
       "  }\n",
       "\n",
       "  .colab-df-quickchart {\n",
       "    background-color: var(--bg-color);\n",
       "    border: none;\n",
       "    border-radius: 50%;\n",
       "    cursor: pointer;\n",
       "    display: none;\n",
       "    fill: var(--fill-color);\n",
       "    height: 32px;\n",
       "    padding: 0;\n",
       "    width: 32px;\n",
       "  }\n",
       "\n",
       "  .colab-df-quickchart:hover {\n",
       "    background-color: var(--hover-bg-color);\n",
       "    box-shadow: 0 1px 2px rgba(60, 64, 67, 0.3), 0 1px 3px 1px rgba(60, 64, 67, 0.15);\n",
       "    fill: var(--button-hover-fill-color);\n",
       "  }\n",
       "\n",
       "  .colab-df-quickchart-complete:disabled,\n",
       "  .colab-df-quickchart-complete:disabled:hover {\n",
       "    background-color: var(--disabled-bg-color);\n",
       "    fill: var(--disabled-fill-color);\n",
       "    box-shadow: none;\n",
       "  }\n",
       "\n",
       "  .colab-df-spinner {\n",
       "    border: 2px solid var(--fill-color);\n",
       "    border-color: transparent;\n",
       "    border-bottom-color: var(--fill-color);\n",
       "    animation:\n",
       "      spin 1s steps(1) infinite;\n",
       "  }\n",
       "\n",
       "  @keyframes spin {\n",
       "    0% {\n",
       "      border-color: transparent;\n",
       "      border-bottom-color: var(--fill-color);\n",
       "      border-left-color: var(--fill-color);\n",
       "    }\n",
       "    20% {\n",
       "      border-color: transparent;\n",
       "      border-left-color: var(--fill-color);\n",
       "      border-top-color: var(--fill-color);\n",
       "    }\n",
       "    30% {\n",
       "      border-color: transparent;\n",
       "      border-left-color: var(--fill-color);\n",
       "      border-top-color: var(--fill-color);\n",
       "      border-right-color: var(--fill-color);\n",
       "    }\n",
       "    40% {\n",
       "      border-color: transparent;\n",
       "      border-right-color: var(--fill-color);\n",
       "      border-top-color: var(--fill-color);\n",
       "    }\n",
       "    60% {\n",
       "      border-color: transparent;\n",
       "      border-right-color: var(--fill-color);\n",
       "    }\n",
       "    80% {\n",
       "      border-color: transparent;\n",
       "      border-right-color: var(--fill-color);\n",
       "      border-bottom-color: var(--fill-color);\n",
       "    }\n",
       "    90% {\n",
       "      border-color: transparent;\n",
       "      border-bottom-color: var(--fill-color);\n",
       "    }\n",
       "  }\n",
       "</style>\n",
       "\n",
       "  <script>\n",
       "    async function quickchart(key) {\n",
       "      const quickchartButtonEl =\n",
       "        document.querySelector('#' + key + ' button');\n",
       "      quickchartButtonEl.disabled = true;  // To prevent multiple clicks.\n",
       "      quickchartButtonEl.classList.add('colab-df-spinner');\n",
       "      try {\n",
       "        const charts = await google.colab.kernel.invokeFunction(\n",
       "            'suggestCharts', [key], {});\n",
       "      } catch (error) {\n",
       "        console.error('Error during call to suggestCharts:', error);\n",
       "      }\n",
       "      quickchartButtonEl.classList.remove('colab-df-spinner');\n",
       "      quickchartButtonEl.classList.add('colab-df-quickchart-complete');\n",
       "    }\n",
       "    (() => {\n",
       "      let quickchartButtonEl =\n",
       "        document.querySelector('#df-66c679e6-12df-48b6-b3ac-7b6a207903ac button');\n",
       "      quickchartButtonEl.style.display =\n",
       "        google.colab.kernel.accessAllowed ? 'block' : 'none';\n",
       "    })();\n",
       "  </script>\n",
       "</div>\n",
       "\n",
       "    </div>\n",
       "  </div>\n"
      ],
      "text/plain": [
       "                        Name Release_Year  \\\n",
       "995            Union Pacific         1999   \n",
       "996  Istanbul: The Dice Game         2017   \n",
       "997               Pictomania         2011   \n",
       "998              Palm Island         2018   \n",
       "999                  Spyfall         2014   \n",
       "\n",
       "                                           Description Minimum_Players  \\\n",
       "995  Will you increase the value of railways you ha...               2   \n",
       "996  Roll worker dice to collect and trade resource...               2   \n",
       "997  Pictionary chaos.  Everyone draws and guesses ...               3   \n",
       "998  Develop and gather resources to grow an island...               1   \n",
       "999  Players ask each other probing questions to de...               3   \n",
       "\n",
       "    Maximum_Players Minimum_Time Maximum_Time Age_Rating    Complexity_Score  \\\n",
       "995               6           90           90         12  2.5458422174840085   \n",
       "996               4           20           40          8   1.790909090909091   \n",
       "997               6           25           25          9  1.5254237288135593   \n",
       "998               2           15           15         10  1.7452229299363058   \n",
       "999               8           15           15         13  1.2355212355212355   \n",
       "\n",
       "    BBG_Rating Game_Categories Game_Mechanics  \n",
       "995    7.19338            1021           2081  \n",
       "996    7.14751            1017           2001  \n",
       "997    7.26297            1030           3096  \n",
       "998    7.06717            1002           2023  \n",
       "999    6.75935            1023           2073  "
      ]
     },
     "execution_count": 15,
     "metadata": {},
     "output_type": "execute_result"
    }
   ],
   "source": [
    "# Checking to make sure everything looks okay!\n",
    "df.head()"
   ]
  },
  {
   "cell_type": "code",
   "execution_count": 17,
   "metadata": {
    "id": "tZbAt1pvByIc"
   },
   "outputs": [],
   "source": [
    "# Converting my dataframe to a csv\n",
    "df.to_csv('Board Game Data.csv', index=False)"
   ]
  }
 ],
 "metadata": {
  "colab": {
   "provenance": []
  },
  "kernelspec": {
   "display_name": "Python [conda env:base] *",
   "language": "python",
   "name": "conda-base-py"
  },
  "language_info": {
   "codemirror_mode": {
    "name": "ipython",
    "version": 3
   },
   "file_extension": ".py",
   "mimetype": "text/x-python",
   "name": "python",
   "nbconvert_exporter": "python",
   "pygments_lexer": "ipython3",
   "version": "3.12.7"
  }
 },
 "nbformat": 4,
 "nbformat_minor": 4
}
