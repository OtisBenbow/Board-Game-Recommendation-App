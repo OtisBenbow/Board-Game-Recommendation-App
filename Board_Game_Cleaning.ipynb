{
 "cells": [
  {
   "cell_type": "markdown",
   "metadata": {
    "id": "vDykoiOt8Hs_"
   },
   "source": [
    "# Cleaning The Board Game Dataset!\n",
    "\n",
    ">I'll be using this python file to clean the dataset"
   ]
  },
  {
   "cell_type": "markdown",
   "metadata": {
    "id": "JzcmrLq386rp"
   },
   "source": [
    "### Importing Libraries"
   ]
  },
  {
   "cell_type": "code",
   "execution_count": 3,
   "metadata": {
    "id": "1sP4thwMECOH"
   },
   "outputs": [],
   "source": [
    "import numpy as np  # numpy! -- maths\n",
    "import seaborn as sns # visualisation!\n",
    "import matplotlib.pyplot as plt # visualisation!\n",
    "import pandas as pd # dataframes & data analysis\n",
    "import re # regular expressions!\n",
    "import ast # Helps convert to the correct data type"
   ]
  },
  {
   "cell_type": "markdown",
   "metadata": {
    "id": "GENlu77-8-dF"
   },
   "source": [
    "### Creating a Pandas Dataframe of the Board Game Data"
   ]
  },
  {
   "cell_type": "code",
   "execution_count": 5,
   "metadata": {
    "id": "vj27iVFvEf-L"
   },
   "outputs": [],
   "source": [
    "df = pd.read_csv('Raw Board Game Data.csv')"
   ]
  },
  {
   "cell_type": "markdown",
   "metadata": {
    "id": "AdJzPcD6K2_1"
   },
   "source": [
    "### Formatting Board Game Titles Correctly"
   ]
  },
  {
   "cell_type": "code",
   "execution_count": 7,
   "metadata": {
    "id": "rTJck4b4KyqI"
   },
   "outputs": [],
   "source": [
    "# Replacing the unicode encoded characters with the correct character\n",
    "df['Name'] = df['Name'].str.replace(r'\\\\u2013', '-', regex=True)\n",
    "df['Name'] = df['Name'].str.replace(r'\\\\u00e9', 'é', regex=True)\n",
    "df['Name'] = df['Name'].str.replace(r'\\\\u00e4', 'ä', regex=True)\n",
    "df['Name'] = df['Name'].str.replace(r'\\\\/', '/', regex=True)\n",
    "df['Name'] = df['Name'].str.replace(r'\\\\u00ef', 'ï', regex=True)\n",
    "df['Name'] = df['Name'].str.replace(r'\\\\u00c8', 'È', regex=True)\n",
    "df['Name'] = df['Name'].str.replace(r'\\\\u00f4', 'ô', regex=True)\n",
    "df['Name'] = df['Name'].str.replace(r'\\\\u00e8', 'è', regex=True)\n",
    "df['Name'] = df['Name'].str.replace(r'\\\\u00e1', 'á', regex=True)\n",
    "df['Name'] = df['Name'].str.replace(r'\\\\u00e0', 'à', regex=True)\n",
    "df['Name'] = df['Name'].str.replace(r'\\\\u2665\\\\ufe0e', '♥︎', regex=True)\n",
    "df['Name'] = df['Name'].str.replace(r'\\\\u00ea', 'ê', regex=True)\n",
    "df['Name'] = df['Name'].str.replace(r'\\\\u2082', '₂', regex=True)\n",
    "df['Name'] = df['Name'].str.replace(r'\\\\u00f9', 'ù', regex=True)\n",
    "df['Name'] = df['Name'].str.replace(r'\\\\u014d', 'ō', regex=True)\n",
    "df['Name'] = df['Name'].str.replace(r'\\\\u201c', '“', regex=True)\n",
    "df['Name'] = df['Name'].str.replace(r'\\\\u201d', '”', regex=True)"
   ]
  },
  {
   "cell_type": "code",
   "execution_count": 8,
   "metadata": {},
   "outputs": [],
   "source": [
    "df['Description'] = df['Description'].str.replace(r'\\\\u2013', '-', regex=True)\n",
    "df['Description'] = df['Description'].str.replace(r'\\\\u00e9', 'é', regex=True)\n",
    "df['Description'] = df['Description'].str.replace(r'\\\\u00e4', 'ä', regex=True)\n",
    "df['Description'] = df['Description'].str.replace(r'\\\\/', '/', regex=True)\n",
    "df['Description'] = df['Description'].str.replace(r'\\\\u00ef', 'ï', regex=True)\n",
    "df['Description'] = df['Description'].str.replace(r'\\\\u00c8', 'È', regex=True)\n",
    "df['Description'] = df['Description'].str.replace(r'\\\\u00f4', 'ô', regex=True)\n",
    "df['Description'] = df['Description'].str.replace(r'\\\\u00e8', 'è', regex=True)\n",
    "df['Description'] = df['Description'].str.replace(r'\\\\u00e1', 'á', regex=True)\n",
    "df['Description'] = df['Description'].str.replace(r'\\\\u00e0', 'à', regex=True)\n",
    "df['Description'] = df['Description'].str.replace(r'\\\\u2665\\\\ufe0e', '♥︎', regex=True)\n",
    "df['Description'] = df['Description'].str.replace(r'\\\\u00ea', 'ê', regex=True)\n",
    "df['Description'] = df['Description'].str.replace(r'\\\\u2082', '₂', regex=True)\n",
    "df['Description'] = df['Description'].str.replace(r'\\\\u00f9', 'ù', regex=True)\n",
    "df['Description'] = df['Description'].str.replace(r'\\\\u00f6', 'ō', regex=True)\n",
    "df['Description'] = df['Description'].str.replace(r'\\\\u201c', '“', regex=True)\n",
    "df['Description'] = df['Description'].str.replace(r'\\\\u201d', '”', regex=True)\n",
    "df['Description'] = df['Description'].str.replace(r'\\\\u2019', \"'\", regex=True)\n",
    "df['Description'] = df['Description'].str.replace(r'\\\\u2019', \"ö\", regex=True)\n",
    "df['Description'] = df['Description'].str.replace(r'\\\\u2014', \"—\", regex=True)\n",
    "df['Description'] = df['Description'].str.replace(r'\\\\u2018', \"‘\", regex=True)\n",
    "df['Description'] = df['Description'].str.replace(r'\\\\u00e2', \"â\", regex=True)\n",
    "df['Description'] = df['Description'].str.replace(r'\\\\u00ed', \"í\", regex=True)"
   ]
  },
  {
   "cell_type": "code",
   "execution_count": 9,
   "metadata": {
    "id": "EGbZdn8ZV5Su"
   },
   "outputs": [],
   "source": [
    "# Fixing a typo in the column names\n",
    "df = df.rename(columns={'BBG_Rating': 'BGG_Rating'})"
   ]
  },
  {
   "cell_type": "markdown",
   "metadata": {
    "id": "lZLGOVgG9MBj"
   },
   "source": [
    "### Preliminary Data Checks"
   ]
  },
  {
   "cell_type": "code",
   "execution_count": 11,
   "metadata": {
    "colab": {
     "base_uri": "https://localhost:8080/",
     "height": 293
    },
    "id": "xZWVylUwEnFQ",
    "outputId": "608d6de8-d172-4fff-8951-874203d5b3fa"
   },
   "outputs": [
    {
     "data": {
      "text/html": [
       "<div>\n",
       "<style scoped>\n",
       "    .dataframe tbody tr th:only-of-type {\n",
       "        vertical-align: middle;\n",
       "    }\n",
       "\n",
       "    .dataframe tbody tr th {\n",
       "        vertical-align: top;\n",
       "    }\n",
       "\n",
       "    .dataframe thead th {\n",
       "        text-align: right;\n",
       "    }\n",
       "</style>\n",
       "<table border=\"1\" class=\"dataframe\">\n",
       "  <thead>\n",
       "    <tr style=\"text-align: right;\">\n",
       "      <th></th>\n",
       "      <th>Name</th>\n",
       "      <th>Release_Year</th>\n",
       "      <th>Description</th>\n",
       "      <th>Minimum_Players</th>\n",
       "      <th>Maximum_Players</th>\n",
       "      <th>Minimum_Time</th>\n",
       "      <th>Maximum_Time</th>\n",
       "      <th>Age_Rating</th>\n",
       "      <th>Complexity_Score</th>\n",
       "      <th>BGG_Rating</th>\n",
       "      <th>Game_Categories</th>\n",
       "      <th>Game_Mechanics</th>\n",
       "    </tr>\n",
       "  </thead>\n",
       "  <tbody>\n",
       "    <tr>\n",
       "      <th>0</th>\n",
       "      <td>Brass: Birmingham</td>\n",
       "      <td>2018</td>\n",
       "      <td>Build networks, grow industries, and navigate ...</td>\n",
       "      <td>2</td>\n",
       "      <td>4</td>\n",
       "      <td>60</td>\n",
       "      <td>120</td>\n",
       "      <td>14</td>\n",
       "      <td>3.870593</td>\n",
       "      <td>8.58540</td>\n",
       "      <td>[('2726', 'age-of-reason'), ('1021', 'economic...</td>\n",
       "      <td>[('2040', 'hand-management'), ('2902', 'income...</td>\n",
       "    </tr>\n",
       "    <tr>\n",
       "      <th>1</th>\n",
       "      <td>Pandemic Legacy: Season 1</td>\n",
       "      <td>2015</td>\n",
       "      <td>Mutating diseases are spreading around the wor...</td>\n",
       "      <td>2</td>\n",
       "      <td>4</td>\n",
       "      <td>60</td>\n",
       "      <td>60</td>\n",
       "      <td>13</td>\n",
       "      <td>2.829530</td>\n",
       "      <td>8.52063</td>\n",
       "      <td>[('1084', 'environmental'), ('2145', 'medical')]</td>\n",
       "      <td>[('2001', 'action-points'), ('2023', 'cooperat...</td>\n",
       "    </tr>\n",
       "    <tr>\n",
       "      <th>2</th>\n",
       "      <td>Ark Nova</td>\n",
       "      <td>2021</td>\n",
       "      <td>Plan and build a modern, scientifically manage...</td>\n",
       "      <td>1</td>\n",
       "      <td>4</td>\n",
       "      <td>90</td>\n",
       "      <td>150</td>\n",
       "      <td>14</td>\n",
       "      <td>3.774865</td>\n",
       "      <td>8.53443</td>\n",
       "      <td>[('1089', 'animals'), ('1021', 'economic'), ('...</td>\n",
       "      <td>[('2689', 'action-queue'), ('2875', 'end-game-...</td>\n",
       "    </tr>\n",
       "    <tr>\n",
       "      <th>3</th>\n",
       "      <td>Gloomhaven</td>\n",
       "      <td>2017</td>\n",
       "      <td>Vanquish monsters with strategic cardplay. Ful...</td>\n",
       "      <td>1</td>\n",
       "      <td>4</td>\n",
       "      <td>60</td>\n",
       "      <td>120</td>\n",
       "      <td>14</td>\n",
       "      <td>3.912514</td>\n",
       "      <td>8.57326</td>\n",
       "      <td>[('1022', 'adventure'), ('1020', 'exploration'...</td>\n",
       "      <td>[('2689', 'action-queue'), ('2839', 'action-re...</td>\n",
       "    </tr>\n",
       "    <tr>\n",
       "      <th>4</th>\n",
       "      <td>Twilight Imperium: Fourth Edition</td>\n",
       "      <td>2017</td>\n",
       "      <td>Build an intergalactic empire through trade, r...</td>\n",
       "      <td>3</td>\n",
       "      <td>6</td>\n",
       "      <td>240</td>\n",
       "      <td>480</td>\n",
       "      <td>14</td>\n",
       "      <td>4.330113</td>\n",
       "      <td>8.58532</td>\n",
       "      <td>[('1015', 'civilization'), ('1021', 'economic'...</td>\n",
       "      <td>[('2838', 'action-drafting'), ('2021', 'area-i...</td>\n",
       "    </tr>\n",
       "  </tbody>\n",
       "</table>\n",
       "</div>"
      ],
      "text/plain": [
       "                                Name  Release_Year  \\\n",
       "0                  Brass: Birmingham          2018   \n",
       "1          Pandemic Legacy: Season 1          2015   \n",
       "2                           Ark Nova          2021   \n",
       "3                         Gloomhaven          2017   \n",
       "4  Twilight Imperium: Fourth Edition          2017   \n",
       "\n",
       "                                         Description  Minimum_Players  \\\n",
       "0  Build networks, grow industries, and navigate ...                2   \n",
       "1  Mutating diseases are spreading around the wor...                2   \n",
       "2  Plan and build a modern, scientifically manage...                1   \n",
       "3  Vanquish monsters with strategic cardplay. Ful...                1   \n",
       "4  Build an intergalactic empire through trade, r...                3   \n",
       "\n",
       "   Maximum_Players  Minimum_Time  Maximum_Time  Age_Rating  Complexity_Score  \\\n",
       "0                4            60           120          14          3.870593   \n",
       "1                4            60            60          13          2.829530   \n",
       "2                4            90           150          14          3.774865   \n",
       "3                4            60           120          14          3.912514   \n",
       "4                6           240           480          14          4.330113   \n",
       "\n",
       "   BGG_Rating                                    Game_Categories  \\\n",
       "0     8.58540  [('2726', 'age-of-reason'), ('1021', 'economic...   \n",
       "1     8.52063   [('1084', 'environmental'), ('2145', 'medical')]   \n",
       "2     8.53443  [('1089', 'animals'), ('1021', 'economic'), ('...   \n",
       "3     8.57326  [('1022', 'adventure'), ('1020', 'exploration'...   \n",
       "4     8.58532  [('1015', 'civilization'), ('1021', 'economic'...   \n",
       "\n",
       "                                      Game_Mechanics  \n",
       "0  [('2040', 'hand-management'), ('2902', 'income...  \n",
       "1  [('2001', 'action-points'), ('2023', 'cooperat...  \n",
       "2  [('2689', 'action-queue'), ('2875', 'end-game-...  \n",
       "3  [('2689', 'action-queue'), ('2839', 'action-re...  \n",
       "4  [('2838', 'action-drafting'), ('2021', 'area-i...  "
      ]
     },
     "execution_count": 11,
     "metadata": {},
     "output_type": "execute_result"
    }
   ],
   "source": [
    "df.head(5)"
   ]
  },
  {
   "cell_type": "code",
   "execution_count": 12,
   "metadata": {
    "colab": {
     "base_uri": "https://localhost:8080/"
    },
    "id": "vZWAo4ESEnpQ",
    "outputId": "c3aa8d54-027e-4efa-c68d-f1387350b588"
   },
   "outputs": [
    {
     "name": "stdout",
     "output_type": "stream",
     "text": [
      "<class 'pandas.core.frame.DataFrame'>\n",
      "RangeIndex: 1000 entries, 0 to 999\n",
      "Data columns (total 12 columns):\n",
      " #   Column            Non-Null Count  Dtype  \n",
      "---  ------            --------------  -----  \n",
      " 0   Name              1000 non-null   object \n",
      " 1   Release_Year      1000 non-null   int64  \n",
      " 2   Description       1000 non-null   object \n",
      " 3   Minimum_Players   1000 non-null   int64  \n",
      " 4   Maximum_Players   1000 non-null   int64  \n",
      " 5   Minimum_Time      1000 non-null   int64  \n",
      " 6   Maximum_Time      1000 non-null   int64  \n",
      " 7   Age_Rating        1000 non-null   int64  \n",
      " 8   Complexity_Score  1000 non-null   float64\n",
      " 9   BGG_Rating        1000 non-null   float64\n",
      " 10  Game_Categories   1000 non-null   object \n",
      " 11  Game_Mechanics    1000 non-null   object \n",
      "dtypes: float64(2), int64(6), object(4)\n",
      "memory usage: 93.9+ KB\n"
     ]
    }
   ],
   "source": [
    "df.info()"
   ]
  },
  {
   "cell_type": "markdown",
   "metadata": {
    "id": "RXdHxD_F9Z_s"
   },
   "source": [
    "No null-values! This was expected since data unable to be found was stored as \"Unknown\"."
   ]
  },
  {
   "cell_type": "markdown",
   "metadata": {
    "id": "wNGOz9PvMcf2"
   },
   "source": [
    "### Checking for Unknowns\n",
    "\n",
    "The only column that contains unknowns is the 'Description' column!"
   ]
  },
  {
   "cell_type": "code",
   "execution_count": 15,
   "metadata": {
    "colab": {
     "base_uri": "https://localhost:8080/",
     "height": 196
    },
    "id": "-6-2QGhCE0cM",
    "outputId": "ab3801b4-9391-4c62-d41c-640427e64624"
   },
   "outputs": [
    {
     "data": {
      "text/html": [
       "<div>\n",
       "<style scoped>\n",
       "    .dataframe tbody tr th:only-of-type {\n",
       "        vertical-align: middle;\n",
       "    }\n",
       "\n",
       "    .dataframe tbody tr th {\n",
       "        vertical-align: top;\n",
       "    }\n",
       "\n",
       "    .dataframe thead th {\n",
       "        text-align: right;\n",
       "    }\n",
       "</style>\n",
       "<table border=\"1\" class=\"dataframe\">\n",
       "  <thead>\n",
       "    <tr style=\"text-align: right;\">\n",
       "      <th></th>\n",
       "      <th>Name</th>\n",
       "      <th>Release_Year</th>\n",
       "      <th>Description</th>\n",
       "      <th>Minimum_Players</th>\n",
       "      <th>Maximum_Players</th>\n",
       "      <th>Minimum_Time</th>\n",
       "      <th>Maximum_Time</th>\n",
       "      <th>Age_Rating</th>\n",
       "      <th>Complexity_Score</th>\n",
       "      <th>BGG_Rating</th>\n",
       "      <th>Game_Categories</th>\n",
       "      <th>Game_Mechanics</th>\n",
       "    </tr>\n",
       "  </thead>\n",
       "  <tbody>\n",
       "    <tr>\n",
       "      <th>587</th>\n",
       "      <td>Blood Bowl: Living Rulebook</td>\n",
       "      <td>2004</td>\n",
       "      <td>Unknown</td>\n",
       "      <td>2</td>\n",
       "      <td>2</td>\n",
       "      <td>120</td>\n",
       "      <td>120</td>\n",
       "      <td>12</td>\n",
       "      <td>3.172932</td>\n",
       "      <td>7.84598</td>\n",
       "      <td>[('1044', 'collectible-components'), ('1042', ...</td>\n",
       "      <td>[('2072', 'dice-rolling'), ('2676', 'grid-move...</td>\n",
       "    </tr>\n",
       "    <tr>\n",
       "      <th>750</th>\n",
       "      <td>Star Wars: X-Wing Miniatures Game - The Force ...</td>\n",
       "      <td>2015</td>\n",
       "      <td>Unknown</td>\n",
       "      <td>2</td>\n",
       "      <td>2</td>\n",
       "      <td>30</td>\n",
       "      <td>45</td>\n",
       "      <td>14</td>\n",
       "      <td>2.844828</td>\n",
       "      <td>7.72554</td>\n",
       "      <td>[('2650', 'aviation-flight'), ('1044', 'collec...</td>\n",
       "      <td>[('2689', 'action-queue'), ('2854', 'critical-...</td>\n",
       "    </tr>\n",
       "    <tr>\n",
       "      <th>901</th>\n",
       "      <td>Unlock!: Epic Adventures</td>\n",
       "      <td>2019</td>\n",
       "      <td>Unknown</td>\n",
       "      <td>1</td>\n",
       "      <td>6</td>\n",
       "      <td>60</td>\n",
       "      <td>60</td>\n",
       "      <td>10</td>\n",
       "      <td>2.157895</td>\n",
       "      <td>7.70138</td>\n",
       "      <td>[('1002', 'card-game'), ('1020', 'exploration'...</td>\n",
       "      <td>[('2023', 'cooperative-game'), ('2831', 'real-...</td>\n",
       "    </tr>\n",
       "  </tbody>\n",
       "</table>\n",
       "</div>"
      ],
      "text/plain": [
       "                                                  Name  Release_Year  \\\n",
       "587                        Blood Bowl: Living Rulebook          2004   \n",
       "750  Star Wars: X-Wing Miniatures Game - The Force ...          2015   \n",
       "901                           Unlock!: Epic Adventures          2019   \n",
       "\n",
       "    Description  Minimum_Players  Maximum_Players  Minimum_Time  Maximum_Time  \\\n",
       "587     Unknown                2                2           120           120   \n",
       "750     Unknown                2                2            30            45   \n",
       "901     Unknown                1                6            60            60   \n",
       "\n",
       "     Age_Rating  Complexity_Score  BGG_Rating  \\\n",
       "587          12          3.172932     7.84598   \n",
       "750          14          2.844828     7.72554   \n",
       "901          10          2.157895     7.70138   \n",
       "\n",
       "                                       Game_Categories  \\\n",
       "587  [('1044', 'collectible-components'), ('1042', ...   \n",
       "750  [('2650', 'aviation-flight'), ('1044', 'collec...   \n",
       "901  [('1002', 'card-game'), ('1020', 'exploration'...   \n",
       "\n",
       "                                        Game_Mechanics  \n",
       "587  [('2072', 'dice-rolling'), ('2676', 'grid-move...  \n",
       "750  [('2689', 'action-queue'), ('2854', 'critical-...  \n",
       "901  [('2023', 'cooperative-game'), ('2831', 'real-...  "
      ]
     },
     "execution_count": 15,
     "metadata": {},
     "output_type": "execute_result"
    }
   ],
   "source": [
    "# These occurred because the games simply lacked short descriptions on BGG\n",
    "df[df['Description'] == 'Unknown']"
   ]
  },
  {
   "cell_type": "code",
   "execution_count": 16,
   "metadata": {
    "colab": {
     "base_uri": "https://localhost:8080/",
     "height": 112
    },
    "id": "jXAojQyNdjxa",
    "outputId": "6827cc76-a637-49e4-914e-e80d7a872621"
   },
   "outputs": [
    {
     "data": {
      "text/html": [
       "<div>\n",
       "<style scoped>\n",
       "    .dataframe tbody tr th:only-of-type {\n",
       "        vertical-align: middle;\n",
       "    }\n",
       "\n",
       "    .dataframe tbody tr th {\n",
       "        vertical-align: top;\n",
       "    }\n",
       "\n",
       "    .dataframe thead th {\n",
       "        text-align: right;\n",
       "    }\n",
       "</style>\n",
       "<table border=\"1\" class=\"dataframe\">\n",
       "  <thead>\n",
       "    <tr style=\"text-align: right;\">\n",
       "      <th></th>\n",
       "      <th>Name</th>\n",
       "      <th>Release_Year</th>\n",
       "      <th>Description</th>\n",
       "      <th>Minimum_Players</th>\n",
       "      <th>Maximum_Players</th>\n",
       "      <th>Minimum_Time</th>\n",
       "      <th>Maximum_Time</th>\n",
       "      <th>Age_Rating</th>\n",
       "      <th>Complexity_Score</th>\n",
       "      <th>BGG_Rating</th>\n",
       "      <th>Game_Categories</th>\n",
       "      <th>Game_Mechanics</th>\n",
       "    </tr>\n",
       "  </thead>\n",
       "  <tbody>\n",
       "    <tr>\n",
       "      <th>22</th>\n",
       "      <td>Clank! Legacy: Acquisitions Incorporated</td>\n",
       "      <td>2019</td>\n",
       "      <td>\\</td>\n",
       "      <td>2</td>\n",
       "      <td>4</td>\n",
       "      <td>90</td>\n",
       "      <td>120</td>\n",
       "      <td>13</td>\n",
       "      <td>2.732026</td>\n",
       "      <td>8.52868</td>\n",
       "      <td>[('1022', 'adventure'), ('1010', 'fantasy'), (...</td>\n",
       "      <td>[('2664', 'deck-bag-and-pool-building'), ('290...</td>\n",
       "    </tr>\n",
       "    <tr>\n",
       "      <th>241</th>\n",
       "      <td>The Taverns of Tiefenthal</td>\n",
       "      <td>2019</td>\n",
       "      <td>\\</td>\n",
       "      <td>2</td>\n",
       "      <td>4</td>\n",
       "      <td>60</td>\n",
       "      <td>60</td>\n",
       "      <td>12</td>\n",
       "      <td>2.681698</td>\n",
       "      <td>7.57671</td>\n",
       "      <td>[('1002', 'card-game'), ('1017', 'dice'), ('10...</td>\n",
       "      <td>[('2664', 'deck-bag-and-pool-building'), ('207...</td>\n",
       "    </tr>\n",
       "  </tbody>\n",
       "</table>\n",
       "</div>"
      ],
      "text/plain": [
       "                                         Name  Release_Year Description  \\\n",
       "22   Clank! Legacy: Acquisitions Incorporated          2019           \\   \n",
       "241                 The Taverns of Tiefenthal          2019           \\   \n",
       "\n",
       "     Minimum_Players  Maximum_Players  Minimum_Time  Maximum_Time  Age_Rating  \\\n",
       "22                 2                4            90           120          13   \n",
       "241                2                4            60            60          12   \n",
       "\n",
       "     Complexity_Score  BGG_Rating  \\\n",
       "22           2.732026     8.52868   \n",
       "241          2.681698     7.57671   \n",
       "\n",
       "                                       Game_Categories  \\\n",
       "22   [('1022', 'adventure'), ('1010', 'fantasy'), (...   \n",
       "241  [('1002', 'card-game'), ('1017', 'dice'), ('10...   \n",
       "\n",
       "                                        Game_Mechanics  \n",
       "22   [('2664', 'deck-bag-and-pool-building'), ('290...  \n",
       "241  [('2664', 'deck-bag-and-pool-building'), ('207...  "
      ]
     },
     "execution_count": 16,
     "metadata": {},
     "output_type": "execute_result"
    }
   ],
   "source": [
    "# These occurred because the games had their descriptions encapsulated by \"\", causing issues with formatting\n",
    "df[df['Description'].str.len() <= 5]"
   ]
  },
  {
   "cell_type": "code",
   "execution_count": 17,
   "metadata": {},
   "outputs": [
    {
     "data": {
      "text/html": [
       "<div>\n",
       "<style scoped>\n",
       "    .dataframe tbody tr th:only-of-type {\n",
       "        vertical-align: middle;\n",
       "    }\n",
       "\n",
       "    .dataframe tbody tr th {\n",
       "        vertical-align: top;\n",
       "    }\n",
       "\n",
       "    .dataframe thead th {\n",
       "        text-align: right;\n",
       "    }\n",
       "</style>\n",
       "<table border=\"1\" class=\"dataframe\">\n",
       "  <thead>\n",
       "    <tr style=\"text-align: right;\">\n",
       "      <th></th>\n",
       "      <th>Name</th>\n",
       "      <th>Release_Year</th>\n",
       "      <th>Description</th>\n",
       "      <th>Minimum_Players</th>\n",
       "      <th>Maximum_Players</th>\n",
       "      <th>Minimum_Time</th>\n",
       "      <th>Maximum_Time</th>\n",
       "      <th>Age_Rating</th>\n",
       "      <th>Complexity_Score</th>\n",
       "      <th>BGG_Rating</th>\n",
       "      <th>Game_Categories</th>\n",
       "      <th>Game_Mechanics</th>\n",
       "    </tr>\n",
       "  </thead>\n",
       "  <tbody>\n",
       "    <tr>\n",
       "      <th>22</th>\n",
       "      <td>Clank! Legacy: Acquisitions Incorporated</td>\n",
       "      <td>2019</td>\n",
       "      <td>\\</td>\n",
       "      <td>2</td>\n",
       "      <td>4</td>\n",
       "      <td>90</td>\n",
       "      <td>120</td>\n",
       "      <td>13</td>\n",
       "      <td>2.732026</td>\n",
       "      <td>8.52868</td>\n",
       "      <td>[('1022', 'adventure'), ('1010', 'fantasy'), (...</td>\n",
       "      <td>[('2664', 'deck-bag-and-pool-building'), ('290...</td>\n",
       "    </tr>\n",
       "    <tr>\n",
       "      <th>43</th>\n",
       "      <td>Pax Pamir: Second Edition</td>\n",
       "      <td>2019</td>\n",
       "      <td>Swing the tides of \\</td>\n",
       "      <td>1</td>\n",
       "      <td>5</td>\n",
       "      <td>45</td>\n",
       "      <td>120</td>\n",
       "      <td>13</td>\n",
       "      <td>3.857923</td>\n",
       "      <td>8.16313</td>\n",
       "      <td>[('1021', 'economic'), ('1094', 'educational')...</td>\n",
       "      <td>[('2001', 'action-points'), ('2080', 'area-maj...</td>\n",
       "    </tr>\n",
       "    <tr>\n",
       "      <th>58</th>\n",
       "      <td>Sleeping Gods</td>\n",
       "      <td>2021</td>\n",
       "      <td>Voyages of the steamship \\</td>\n",
       "      <td>1</td>\n",
       "      <td>4</td>\n",
       "      <td>60</td>\n",
       "      <td>1200</td>\n",
       "      <td>13</td>\n",
       "      <td>3.245495</td>\n",
       "      <td>8.16590</td>\n",
       "      <td>[('1022', 'adventure'), ('1020', 'exploration'...</td>\n",
       "      <td>[('2001', 'action-points'), ('2023', 'cooperat...</td>\n",
       "    </tr>\n",
       "    <tr>\n",
       "      <th>241</th>\n",
       "      <td>The Taverns of Tiefenthal</td>\n",
       "      <td>2019</td>\n",
       "      <td>\\</td>\n",
       "      <td>2</td>\n",
       "      <td>4</td>\n",
       "      <td>60</td>\n",
       "      <td>60</td>\n",
       "      <td>12</td>\n",
       "      <td>2.681698</td>\n",
       "      <td>7.57671</td>\n",
       "      <td>[('1002', 'card-game'), ('1017', 'dice'), ('10...</td>\n",
       "      <td>[('2664', 'deck-bag-and-pool-building'), ('207...</td>\n",
       "    </tr>\n",
       "    <tr>\n",
       "      <th>357</th>\n",
       "      <td>Bunny Kingdom</td>\n",
       "      <td>2017</td>\n",
       "      <td>Adorable bunnies build cities, harvest carrots...</td>\n",
       "      <td>2</td>\n",
       "      <td>4</td>\n",
       "      <td>40</td>\n",
       "      <td>60</td>\n",
       "      <td>12</td>\n",
       "      <td>2.298893</td>\n",
       "      <td>7.42268</td>\n",
       "      <td>[('1089', 'animals'), ('1035', 'medieval'), ('...</td>\n",
       "      <td>[('2080', 'area-majority-influence'), ('2984',...</td>\n",
       "    </tr>\n",
       "  </tbody>\n",
       "</table>\n",
       "</div>"
      ],
      "text/plain": [
       "                                         Name  Release_Year  \\\n",
       "22   Clank! Legacy: Acquisitions Incorporated          2019   \n",
       "43                  Pax Pamir: Second Edition          2019   \n",
       "58                              Sleeping Gods          2021   \n",
       "241                 The Taverns of Tiefenthal          2019   \n",
       "357                             Bunny Kingdom          2017   \n",
       "\n",
       "                                           Description  Minimum_Players  \\\n",
       "22                                                   \\                2   \n",
       "43                                Swing the tides of \\                1   \n",
       "58                          Voyages of the steamship \\                1   \n",
       "241                                                  \\                2   \n",
       "357  Adorable bunnies build cities, harvest carrots...                2   \n",
       "\n",
       "     Maximum_Players  Minimum_Time  Maximum_Time  Age_Rating  \\\n",
       "22                 4            90           120          13   \n",
       "43                 5            45           120          13   \n",
       "58                 4            60          1200          13   \n",
       "241                4            60            60          12   \n",
       "357                4            40            60          12   \n",
       "\n",
       "     Complexity_Score  BGG_Rating  \\\n",
       "22           2.732026     8.52868   \n",
       "43           3.857923     8.16313   \n",
       "58           3.245495     8.16590   \n",
       "241          2.681698     7.57671   \n",
       "357          2.298893     7.42268   \n",
       "\n",
       "                                       Game_Categories  \\\n",
       "22   [('1022', 'adventure'), ('1010', 'fantasy'), (...   \n",
       "43   [('1021', 'economic'), ('1094', 'educational')...   \n",
       "58   [('1022', 'adventure'), ('1020', 'exploration'...   \n",
       "241  [('1002', 'card-game'), ('1017', 'dice'), ('10...   \n",
       "357  [('1089', 'animals'), ('1035', 'medieval'), ('...   \n",
       "\n",
       "                                        Game_Mechanics  \n",
       "22   [('2664', 'deck-bag-and-pool-building'), ('290...  \n",
       "43   [('2001', 'action-points'), ('2080', 'area-maj...  \n",
       "58   [('2001', 'action-points'), ('2023', 'cooperat...  \n",
       "241  [('2664', 'deck-bag-and-pool-building'), ('207...  \n",
       "357  [('2080', 'area-majority-influence'), ('2984',...  "
      ]
     },
     "execution_count": 17,
     "metadata": {},
     "output_type": "execute_result"
    }
   ],
   "source": [
    "# These occurred because the description contained a \"\" causing it to be cut off\n",
    "df[df['Description'].str.contains(r'\\\\', regex=True)]"
   ]
  },
  {
   "cell_type": "markdown",
   "metadata": {
    "id": "syRnX_l3_iMH"
   },
   "source": [
    "We have 8 games with missing descriptions! 3 indicated by \"Unknown\", 2 indicated by \"\\\\\", and 3 incomplete. Since it's so few, Filling them in manually is easy.\n",
    "\n",
    "Taking extracts from their longer BGG descriptions or games from the same series:\n",
    "\n",
    "* **Clank! Legacy: Acquisitions Incorporated** --> Go forth, be bold, and ACQUIRE!\" in this campaign version of \"Clank!\n",
    "\n",
    "* **The Taverns of Tiefenthal** --> Build your way to the best Tavern in town with this deckbuilding dice drafting game.\n",
    "\n",
    "* **Blood Bowl: Living Rulebook** --> Game of Rugby/Football as imagined in a fantasy world of orcs, elves, beastmen.\n",
    "\n",
    "* **Star Wars: X-Wing Miniatures Game – The Force Awakens Core Set** --> Pilot your ships in tight arcs to take out the enemy! The universe can be yours.\n",
    "\n",
    "* **Unlock!: Epic Adventures** --> Escape room scenarios: The Seventh Screening; The Dragon's Seven Tests; Mission #07.\n",
    "\n",
    "* **Pax Pamir: Second Edition** --> Swing the tides of \"The Great Game\" as countries vie for control of Afghanistan.\n",
    "\n",
    "* **Sleeping Gods** --> Voyages of the steamship \"Manticore\" and her crew on the Wandering Sea.\n",
    "\n",
    "* **Bunny Kingdom** -->\tAdorable bunnies build cities, harvest carrots, and go on missions to be \"Big Ears!\""
   ]
  },
  {
   "cell_type": "code",
   "execution_count": 19,
   "metadata": {
    "id": "2TyVXehvLM85"
   },
   "outputs": [],
   "source": [
    "# Clank! Legacy: Acquisitions Incorporated\n",
    "df.loc[22, 'Description'] = 'Go forth, be bold, and ACQUIRE!\" in this campaign version of \"Clank!'\n",
    "\n",
    "# Pax Pamir: Second Edition\n",
    "df.loc[43, 'Description'] = 'Swing the tides of \"The Great Game\" as countries vie for control of Afghanistan.'\n",
    "\n",
    "# Sleeping Gods\n",
    "df.loc[58, 'Description'] = 'Voyages of the steamship \"Manticore\" and her crew on the Wandering Sea.'\n",
    "\n",
    "# The Taverns of Tiefenthal\n",
    "df.loc[241, 'Description'] = 'Build your way to the best Tavern in town with this deckbuilding dice drafting game.'\n",
    "\n",
    "# Bunny Kingdom\n",
    "df.loc[357, 'Description'] = 'Adorable bunnies build cities, harvest carrots, and go on missions to be \"Big Ears!\"'\n",
    "\n",
    "# Blood Bowl: Living Rulebook\n",
    "df.loc[587, 'Description'] = 'Game of Rugby/Football as imagined in a fantasy world of orcs, elves, beastmen.'\n",
    "\n",
    "# Star Wars: X-Wing Miniatures Game – The Force Awakens Core Set\n",
    "df.loc[750, 'Description'] = 'Pilot your ships in tight arcs to take out the enemy! The universe can be yours.'\n",
    "\n",
    "# Unlock!: Epic Adventures\n",
    "df.loc[901, 'Description'] = \"Escape room scenarios: The Seventh Screening; The Dragon's Seven Tests; Mission #07.\""
   ]
  },
  {
   "cell_type": "markdown",
   "metadata": {
    "id": "j7OBLS75MzN7"
   },
   "source": [
    "### Checking for Empty Categories/Mechanics"
   ]
  },
  {
   "cell_type": "code",
   "execution_count": 21,
   "metadata": {
    "colab": {
     "base_uri": "https://localhost:8080/",
     "height": 144
    },
    "id": "TBGdii_K-bAa",
    "outputId": "fac7dce6-feb9-4b43-8aca-6f23883abb89"
   },
   "outputs": [
    {
     "data": {
      "text/html": [
       "<div>\n",
       "<style scoped>\n",
       "    .dataframe tbody tr th:only-of-type {\n",
       "        vertical-align: middle;\n",
       "    }\n",
       "\n",
       "    .dataframe tbody tr th {\n",
       "        vertical-align: top;\n",
       "    }\n",
       "\n",
       "    .dataframe thead th {\n",
       "        text-align: right;\n",
       "    }\n",
       "</style>\n",
       "<table border=\"1\" class=\"dataframe\">\n",
       "  <thead>\n",
       "    <tr style=\"text-align: right;\">\n",
       "      <th></th>\n",
       "      <th>Name</th>\n",
       "      <th>Release_Year</th>\n",
       "      <th>Description</th>\n",
       "      <th>Minimum_Players</th>\n",
       "      <th>Maximum_Players</th>\n",
       "      <th>Minimum_Time</th>\n",
       "      <th>Maximum_Time</th>\n",
       "      <th>Age_Rating</th>\n",
       "      <th>Complexity_Score</th>\n",
       "      <th>BGG_Rating</th>\n",
       "      <th>Game_Categories</th>\n",
       "      <th>Game_Mechanics</th>\n",
       "    </tr>\n",
       "  </thead>\n",
       "  <tbody>\n",
       "    <tr>\n",
       "      <th>81</th>\n",
       "      <td>Azul</td>\n",
       "      <td>2017</td>\n",
       "      <td>Artfully embellish the walls of your palace by...</td>\n",
       "      <td>2</td>\n",
       "      <td>4</td>\n",
       "      <td>30</td>\n",
       "      <td>45</td>\n",
       "      <td>8</td>\n",
       "      <td>1.766294</td>\n",
       "      <td>7.73667</td>\n",
       "      <td>[]</td>\n",
       "      <td>[]</td>\n",
       "    </tr>\n",
       "    <tr>\n",
       "      <th>300</th>\n",
       "      <td>Kingdomino</td>\n",
       "      <td>2016</td>\n",
       "      <td>Build a kingdom with varied terrains on domino...</td>\n",
       "      <td>2</td>\n",
       "      <td>4</td>\n",
       "      <td>15</td>\n",
       "      <td>25</td>\n",
       "      <td>8</td>\n",
       "      <td>1.232413</td>\n",
       "      <td>7.30152</td>\n",
       "      <td>[]</td>\n",
       "      <td>[]</td>\n",
       "    </tr>\n",
       "    <tr>\n",
       "      <th>701</th>\n",
       "      <td>HITSTER</td>\n",
       "      <td>2022</td>\n",
       "      <td>Listen to music hits and take turns guessing w...</td>\n",
       "      <td>2</td>\n",
       "      <td>10</td>\n",
       "      <td>30</td>\n",
       "      <td>30</td>\n",
       "      <td>16</td>\n",
       "      <td>1.011364</td>\n",
       "      <td>7.63177</td>\n",
       "      <td>[('1002', 'card-game'), ('1054', 'music'), ('1...</td>\n",
       "      <td>[]</td>\n",
       "    </tr>\n",
       "  </tbody>\n",
       "</table>\n",
       "</div>"
      ],
      "text/plain": [
       "           Name  Release_Year  \\\n",
       "81         Azul          2017   \n",
       "300  Kingdomino          2016   \n",
       "701     HITSTER          2022   \n",
       "\n",
       "                                           Description  Minimum_Players  \\\n",
       "81   Artfully embellish the walls of your palace by...                2   \n",
       "300  Build a kingdom with varied terrains on domino...                2   \n",
       "701  Listen to music hits and take turns guessing w...                2   \n",
       "\n",
       "     Maximum_Players  Minimum_Time  Maximum_Time  Age_Rating  \\\n",
       "81                 4            30            45           8   \n",
       "300                4            15            25           8   \n",
       "701               10            30            30          16   \n",
       "\n",
       "     Complexity_Score  BGG_Rating  \\\n",
       "81           1.766294     7.73667   \n",
       "300          1.232413     7.30152   \n",
       "701          1.011364     7.63177   \n",
       "\n",
       "                                       Game_Categories Game_Mechanics  \n",
       "81                                                  []             []  \n",
       "300                                                 []             []  \n",
       "701  [('1002', 'card-game'), ('1054', 'music'), ('1...             []  "
      ]
     },
     "execution_count": 21,
     "metadata": {},
     "output_type": "execute_result"
    }
   ],
   "source": [
    "df[(df['Game_Mechanics'] == '[]') | (df['Game_Categories'] == '[]')]"
   ]
  },
  {
   "cell_type": "markdown",
   "metadata": {
    "id": "IROonSgzM97_"
   },
   "source": [
    "We have 3 games with missing Mechanics, 2 of which are missing Categories! Again, filling them in manually is easy.\n",
    "\n",
    "Taking the missing values directly from BGG:\n",
    "* **Azul**\n",
    "  * **Game_Categories** --> [('1009', 'abstract-strategy'), ('1028', 'puzzle'), ('1070', 'renaissance')]\n",
    "  * **Game_Mechanics** --> [('2875', 'end-game-bonuses'), ('2041', 'open-drafting'), ('2048', 'pattern-building'), ('2004', 'set-collection'), ('2002', 'tile-placement'), ('2829', 'turn-order-claim-action')]\n",
    "* **Kingdomino**\n",
    "  * **Game_Categories** --> [('1029', 'city-building'), ('1035', 'medieval'), ('1086', 'territory-building')]\n",
    "  * **Game_Mechanics** --> [('2041', 'open-drafting'), ('2002', 'tile-placement'), ('2826', 'turn-order-stat-based')]\n",
    "* **HITSTER**\n",
    "  * **Game_Mechanics** --> [('2038', 'singing')]"
   ]
  },
  {
   "cell_type": "code",
   "execution_count": 23,
   "metadata": {
    "id": "dT5yQWGDNNhL"
   },
   "outputs": [],
   "source": [
    "# Azul\n",
    "df.loc[81, 'Game_Categories'] = \"[('1009', 'abstract-strategy'), ('1028', 'puzzle'), ('1070', 'renaissance')]\"\n",
    "df.loc[81, 'Game_Mechanics'] = \"[('2875', 'end-game-bonuses'), ('2041', 'open-drafting'), ('2048', 'pattern-building'), ('2004', 'set-collection'), ('2002', 'tile-placement'), ('2829', 'turn-order-claim-action')]\"\n",
    "# Kingdomino\n",
    "df.loc[300, 'Game_Categories'] = \"[('1029', 'city-building'), ('1035', 'medieval'), ('1086', 'territory-building')]\"\n",
    "df.loc[300, 'Game_Mechanics'] = \"[('2041', 'open-drafting'), ('2002', 'tile-placement'), ('2826', 'turn-order-stat-based')]\"\n",
    "# HITSTER\n",
    "df.loc[701, 'Game_Mechanics'] = \"[('2038', 'singing')]\""
   ]
  },
  {
   "cell_type": "markdown",
   "metadata": {
    "id": "gL8CEY_pUSUM"
   },
   "source": [
    "### Checking Other Odd Features"
   ]
  },
  {
   "cell_type": "code",
   "execution_count": 25,
   "metadata": {
    "colab": {
     "base_uri": "https://localhost:8080/",
     "height": 147
    },
    "id": "sCmDchevUS98",
    "outputId": "1b54a0e6-07c9-40df-b18b-1e66ea3d05f5"
   },
   "outputs": [
    {
     "data": {
      "text/html": [
       "<div>\n",
       "<style scoped>\n",
       "    .dataframe tbody tr th:only-of-type {\n",
       "        vertical-align: middle;\n",
       "    }\n",
       "\n",
       "    .dataframe tbody tr th {\n",
       "        vertical-align: top;\n",
       "    }\n",
       "\n",
       "    .dataframe thead th {\n",
       "        text-align: right;\n",
       "    }\n",
       "</style>\n",
       "<table border=\"1\" class=\"dataframe\">\n",
       "  <thead>\n",
       "    <tr style=\"text-align: right;\">\n",
       "      <th></th>\n",
       "      <th>Name</th>\n",
       "      <th>Release_Year</th>\n",
       "      <th>Description</th>\n",
       "      <th>Minimum_Players</th>\n",
       "      <th>Maximum_Players</th>\n",
       "      <th>Minimum_Time</th>\n",
       "      <th>Maximum_Time</th>\n",
       "      <th>Age_Rating</th>\n",
       "      <th>Complexity_Score</th>\n",
       "      <th>BGG_Rating</th>\n",
       "      <th>Game_Categories</th>\n",
       "      <th>Game_Mechanics</th>\n",
       "    </tr>\n",
       "  </thead>\n",
       "  <tbody>\n",
       "    <tr>\n",
       "      <th>446</th>\n",
       "      <td>Chess</td>\n",
       "      <td>1475</td>\n",
       "      <td>Checkmate your opponent in this timeless abstr...</td>\n",
       "      <td>2</td>\n",
       "      <td>2</td>\n",
       "      <td>0</td>\n",
       "      <td>0</td>\n",
       "      <td>6</td>\n",
       "      <td>3.655113</td>\n",
       "      <td>7.22167</td>\n",
       "      <td>[('1009', 'abstract-strategy')]</td>\n",
       "      <td>[('2676', 'grid-movement'), ('2846', 'once-per...</td>\n",
       "    </tr>\n",
       "    <tr>\n",
       "      <th>592</th>\n",
       "      <td>Aeon Trespass: Odyssey</td>\n",
       "      <td>2022</td>\n",
       "      <td>Tame the Titans! Arm, evolve and pilot them to...</td>\n",
       "      <td>1</td>\n",
       "      <td>4</td>\n",
       "      <td>90</td>\n",
       "      <td>0</td>\n",
       "      <td>12</td>\n",
       "      <td>4.736986</td>\n",
       "      <td>9.03015</td>\n",
       "      <td>[('1022', 'adventure'), ('1050', 'ancient'), (...</td>\n",
       "      <td>[('2841', 'command-cards'), ('2023', 'cooperat...</td>\n",
       "    </tr>\n",
       "  </tbody>\n",
       "</table>\n",
       "</div>"
      ],
      "text/plain": [
       "                       Name  Release_Year  \\\n",
       "446                   Chess          1475   \n",
       "592  Aeon Trespass: Odyssey          2022   \n",
       "\n",
       "                                           Description  Minimum_Players  \\\n",
       "446  Checkmate your opponent in this timeless abstr...                2   \n",
       "592  Tame the Titans! Arm, evolve and pilot them to...                1   \n",
       "\n",
       "     Maximum_Players  Minimum_Time  Maximum_Time  Age_Rating  \\\n",
       "446                2             0             0           6   \n",
       "592                4            90             0          12   \n",
       "\n",
       "     Complexity_Score  BGG_Rating  \\\n",
       "446          3.655113     7.22167   \n",
       "592          4.736986     9.03015   \n",
       "\n",
       "                                       Game_Categories  \\\n",
       "446                    [('1009', 'abstract-strategy')]   \n",
       "592  [('1022', 'adventure'), ('1050', 'ancient'), (...   \n",
       "\n",
       "                                        Game_Mechanics  \n",
       "446  [('2676', 'grid-movement'), ('2846', 'once-per...  \n",
       "592  [('2841', 'command-cards'), ('2023', 'cooperat...  "
      ]
     },
     "execution_count": 25,
     "metadata": {},
     "output_type": "execute_result"
    }
   ],
   "source": [
    "df[(df['Minimum_Time'] == 0) | (df['Maximum_Time'] == 0)]"
   ]
  },
  {
   "cell_type": "markdown",
   "metadata": {
    "id": "grZvyqBFU1Qb"
   },
   "source": [
    "We have 2 games with **interesting** play time suggestions.\n",
    "\n",
    "I will be changing the times based on search results for the games.\n",
    "* **Chess** --> 1-90 Minutes (Based on average chess gameplay)\n",
    "* **Aeon Trespass: Odyssey** --> 90-1200 Minutes (Campaign style game so matched to other campaign games)"
   ]
  },
  {
   "cell_type": "code",
   "execution_count": 27,
   "metadata": {
    "id": "hAbG4cYcUTiS"
   },
   "outputs": [],
   "source": [
    "# Chess\n",
    "df.loc[446, 'Minimum_Time'] = 1\n",
    "df.loc[446, 'Maximum_Time'] = 90\n",
    "# Aeon Trespass: Odyssey\n",
    "df.loc[592, 'Maximum_Time'] = 1200"
   ]
  },
  {
   "cell_type": "markdown",
   "metadata": {},
   "source": [
    "### Fixing Some Missing Age Ratings"
   ]
  },
  {
   "cell_type": "code",
   "execution_count": 29,
   "metadata": {},
   "outputs": [
    {
     "data": {
      "text/html": [
       "<div>\n",
       "<style scoped>\n",
       "    .dataframe tbody tr th:only-of-type {\n",
       "        vertical-align: middle;\n",
       "    }\n",
       "\n",
       "    .dataframe tbody tr th {\n",
       "        vertical-align: top;\n",
       "    }\n",
       "\n",
       "    .dataframe thead th {\n",
       "        text-align: right;\n",
       "    }\n",
       "</style>\n",
       "<table border=\"1\" class=\"dataframe\">\n",
       "  <thead>\n",
       "    <tr style=\"text-align: right;\">\n",
       "      <th></th>\n",
       "      <th>Name</th>\n",
       "      <th>Release_Year</th>\n",
       "      <th>Description</th>\n",
       "      <th>Minimum_Players</th>\n",
       "      <th>Maximum_Players</th>\n",
       "      <th>Minimum_Time</th>\n",
       "      <th>Maximum_Time</th>\n",
       "      <th>Age_Rating</th>\n",
       "      <th>Complexity_Score</th>\n",
       "      <th>BGG_Rating</th>\n",
       "      <th>Game_Categories</th>\n",
       "      <th>Game_Mechanics</th>\n",
       "    </tr>\n",
       "  </thead>\n",
       "  <tbody>\n",
       "    <tr>\n",
       "      <th>533</th>\n",
       "      <td>Fire in the Lake</td>\n",
       "      <td>2014</td>\n",
       "      <td>Play as the USA, VC, ARVN, or NVA to control V...</td>\n",
       "      <td>1</td>\n",
       "      <td>4</td>\n",
       "      <td>180</td>\n",
       "      <td>180</td>\n",
       "      <td>0</td>\n",
       "      <td>4.145270</td>\n",
       "      <td>8.06421</td>\n",
       "      <td>[('1102', 'civil-war'), ('1069', 'modern-warfa...</td>\n",
       "      <td>[('2080', 'area-majority-influence'), ('2072',...</td>\n",
       "    </tr>\n",
       "    <tr>\n",
       "      <th>975</th>\n",
       "      <td>Washington's War</td>\n",
       "      <td>2010</td>\n",
       "      <td>Classic card-driven game. Free the Patriots or...</td>\n",
       "      <td>2</td>\n",
       "      <td>2</td>\n",
       "      <td>90</td>\n",
       "      <td>90</td>\n",
       "      <td>0</td>\n",
       "      <td>2.881919</td>\n",
       "      <td>7.60555</td>\n",
       "      <td>[('2726', 'age-of-reason'), ('1075', 'american...</td>\n",
       "      <td>[('2080', 'area-majority-influence'), ('2018',...</td>\n",
       "    </tr>\n",
       "  </tbody>\n",
       "</table>\n",
       "</div>"
      ],
      "text/plain": [
       "                 Name  Release_Year  \\\n",
       "533  Fire in the Lake          2014   \n",
       "975  Washington's War          2010   \n",
       "\n",
       "                                           Description  Minimum_Players  \\\n",
       "533  Play as the USA, VC, ARVN, or NVA to control V...                1   \n",
       "975  Classic card-driven game. Free the Patriots or...                2   \n",
       "\n",
       "     Maximum_Players  Minimum_Time  Maximum_Time  Age_Rating  \\\n",
       "533                4           180           180           0   \n",
       "975                2            90            90           0   \n",
       "\n",
       "     Complexity_Score  BGG_Rating  \\\n",
       "533          4.145270     8.06421   \n",
       "975          2.881919     7.60555   \n",
       "\n",
       "                                       Game_Categories  \\\n",
       "533  [('1102', 'civil-war'), ('1069', 'modern-warfa...   \n",
       "975  [('2726', 'age-of-reason'), ('1075', 'american...   \n",
       "\n",
       "                                        Game_Mechanics  \n",
       "533  [('2080', 'area-majority-influence'), ('2072',...  \n",
       "975  [('2080', 'area-majority-influence'), ('2018',...  "
      ]
     },
     "execution_count": 29,
     "metadata": {},
     "output_type": "execute_result"
    }
   ],
   "source": [
    "df[df['Age_Rating'] < 5]"
   ]
  },
  {
   "cell_type": "markdown",
   "metadata": {},
   "source": [
    "We have 2 games with age ratings of 0.\n",
    "\n",
    "I will be changing the ratings based on BGG's community age ratings for the games.\n",
    "\n",
    "* **Fire in the Lake** --> 14\n",
    "* **Washington's War** --> 12"
   ]
  },
  {
   "cell_type": "code",
   "execution_count": 31,
   "metadata": {},
   "outputs": [],
   "source": [
    "df.loc[533, 'Age_Rating'] = 14\n",
    "df.loc[975, 'Age_Rating'] = 12"
   ]
  },
  {
   "cell_type": "markdown",
   "metadata": {},
   "source": [
    "### Dealing with when a games Minimum_Time == Maximum_Time"
   ]
  },
  {
   "cell_type": "code",
   "execution_count": 33,
   "metadata": {},
   "outputs": [],
   "source": [
    "mask = df['Minimum_Time'] == df['Maximum_Time']\n",
    "\n",
    "# Adjust the min_time and max_time values where the condition is met\n",
    "df.loc[mask, 'Minimum_Time'] -= 20\n",
    "df.loc[mask, 'Maximum_Time'] += 20\n",
    "\n",
    "df.loc[df['Minimum_Time'] < 5, 'Minimum_Time'] = 5"
   ]
  },
  {
   "cell_type": "markdown",
   "metadata": {
    "id": "UU_Z7j6uRVmx"
   },
   "source": [
    "### Adding in Each Game's Official BGG Rank"
   ]
  },
  {
   "cell_type": "code",
   "execution_count": 35,
   "metadata": {
    "id": "2U86jMuOQxRp"
   },
   "outputs": [],
   "source": [
    "df['BGG_Rank'] = range(1, len(df) + 1)"
   ]
  },
  {
   "cell_type": "markdown",
   "metadata": {
    "id": "1DhOzh_BTA3s"
   },
   "source": [
    "### Converting the Categories and Mechanics into a Workable List"
   ]
  },
  {
   "cell_type": "code",
   "execution_count": 37,
   "metadata": {
    "id": "wzxWLhaFTsIQ"
   },
   "outputs": [],
   "source": [
    "df['Game_Categories'] = df['Game_Categories'].apply(lambda x: [cat[1] for cat in ast.literal_eval(x)])\n",
    "df['Game_Mechanics'] = df['Game_Mechanics'].apply(lambda x: [mech[1] for mech in ast.literal_eval(x)])"
   ]
  },
  {
   "cell_type": "markdown",
   "metadata": {
    "id": "lFKdULtNVIyV"
   },
   "source": [
    "### Rounding the Complexity Score and BGG Rating"
   ]
  },
  {
   "cell_type": "code",
   "execution_count": 39,
   "metadata": {
    "id": "RB0YiT6DVUBz"
   },
   "outputs": [],
   "source": [
    "df['Complexity_Score'] = df['Complexity_Score'].apply(lambda x: round(x, 1))\n",
    "df['BGG_Rating'] = df['BGG_Rating'].apply(lambda x: round(x, 2))"
   ]
  },
  {
   "cell_type": "markdown",
   "metadata": {
    "id": "baVofw55aCLl"
   },
   "source": [
    "### Make a New Column to Classify Complexity"
   ]
  },
  {
   "cell_type": "code",
   "execution_count": 41,
   "metadata": {
    "id": "Th-MZkKtaADK"
   },
   "outputs": [],
   "source": [
    "def classify_complexity(score):\n",
    "    if 1.0 <= score <= 2:\n",
    "        return 'Light'\n",
    "    elif 2 < score <= 4:\n",
    "        return 'Medium'\n",
    "    elif 4 < score <= 5.0:\n",
    "        return 'Heavy'\n",
    "\n",
    "df['Complexity_Category'] = df['Complexity_Score'].apply(classify_complexity)"
   ]
  },
  {
   "cell_type": "markdown",
   "metadata": {
    "id": "QKND6usYQn5g"
   },
   "source": [
    "### Converting the DF to a New .csv File"
   ]
  },
  {
   "cell_type": "code",
   "execution_count": 43,
   "metadata": {
    "id": "pOpdWQKPf7BU"
   },
   "outputs": [],
   "source": [
    "df.to_csv('Board Game Data.csv', index=False)"
   ]
  }
 ],
 "metadata": {
  "colab": {
   "provenance": []
  },
  "kernelspec": {
   "display_name": "Python [conda env:base] *",
   "language": "python",
   "name": "conda-base-py"
  },
  "language_info": {
   "codemirror_mode": {
    "name": "ipython",
    "version": 3
   },
   "file_extension": ".py",
   "mimetype": "text/x-python",
   "name": "python",
   "nbconvert_exporter": "python",
   "pygments_lexer": "ipython3",
   "version": "3.12.7"
  }
 },
 "nbformat": 4,
 "nbformat_minor": 4
}
